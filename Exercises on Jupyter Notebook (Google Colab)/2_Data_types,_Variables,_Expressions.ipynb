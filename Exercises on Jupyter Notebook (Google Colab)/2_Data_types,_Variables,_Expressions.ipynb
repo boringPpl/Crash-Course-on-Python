{
  "nbformat": 4,
  "nbformat_minor": 0,
  "metadata": {
    "colab": {
      "name": "2 Data types, Variables, Expressions.ipynb",
      "provenance": []
    },
    "kernelspec": {
      "name": "python3",
      "display_name": "Python 3"
    }
  },
  "cells": [
    {
      "cell_type": "code",
      "metadata": {
        "id": "eebmcg1KAqPe"
      },
      "source": [
        "''' Question 2.1:\n",
        "Three friends are having drink at a local smoothie store. \n",
        "The bill comes in the amount of 48.12 dollars. \n",
        "The friends decide to split the bill evenly between them, after adding 15% tip for the service. \n",
        "Your job is to calculate the tip, the total amount to pay, and each friend's share, \n",
        "then output a message saying \"Each friend needs to pay: \" followed by the resulting number.'''\n",
        "\n",
        "bill = ___\n",
        "tip = bill * ___\n",
        "total = bill + ___\n",
        "share = ___ \n",
        "print(\" \")"
      ],
      "execution_count": null,
      "outputs": []
    },
    {
      "cell_type": "code",
      "metadata": {
        "id": "-CqYX9ioAxWs"
      },
      "source": [
        "''' Question 2.2:\n",
        "This code is supposed to take two numbers, divide one by another \n",
        "so that the result is equal to 1, and display the result on the screen. \n",
        "Unfortunately, there is an error in the code. \n",
        "Find the error and fix it, so that the output is correct.'''\n",
        "\n",
        "numerator = 10\n",
        "denominator = 0\n",
        "result = numerator / denominator\n",
        "print()"
      ],
      "execution_count": null,
      "outputs": []
    },
    {
      "cell_type": "code",
      "metadata": {
        "id": "gH--Du5uAxZS"
      },
      "source": [
        "''' Question 2.3:\n",
        "Combine the variables to display the sentence \n",
        "\"I love interactive videos!\"\n",
        "'''\n",
        "\n",
        "word1 = \"I\"\n",
        "word2 = \"!\"\n",
        "word3 = \"videos\"\n",
        "word4 = \"interactive\"\n",
        "word5 = \"love\"\n",
        "\n",
        "print()"
      ],
      "execution_count": null,
      "outputs": []
    },
    {
      "cell_type": "code",
      "metadata": {
        "id": "n-idZENpAxb_"
      },
      "source": [
        "''' Question 2.4:\n",
        "This code is supposed to display \"5 + 3 = 8\" on the screen, but there is an error. \n",
        "Find the error in the code and fix it, so that the output is correct.\n",
        "'''\n",
        "\n",
        "print(\"2 + 2 = \" + (2 + 2))"
      ],
      "execution_count": null,
      "outputs": []
    },
    {
      "cell_type": "code",
      "metadata": {
        "id": "L8qNBwOHAxe2"
      },
      "source": [
        "''' Question 2.5:\n",
        "Fill in the blanks so that the code prints \n",
        "\"I am learning Python programming with interactive videos\".\n",
        "'''\n",
        "\n",
        "programming_language = ___\n",
        "method = ___\n",
        "print(\"I am learning \" + programming_language + \" with \" + method)"
      ],
      "execution_count": null,
      "outputs": []
    },
    {
      "cell_type": "code",
      "metadata": {
        "id": "Y03rscW8Axhn"
      },
      "source": [
        "''' Question 2.6:\n",
        "Keeping in mind there are 86400 seconds per day, \n",
        "write a program that calculates how many seconds there are in a year, \n",
        "if a year is 365 days.Print the result on the screen.\n",
        "Note: Your result should be in the format of just a number, not a sentence.\n",
        "'''\n"
      ],
      "execution_count": null,
      "outputs": []
    },
    {
      "cell_type": "code",
      "metadata": {
        "id": "59vdNanOBInK"
      },
      "source": [
        "''' Question 2.7:\n",
        "Use Python to calculate how many different passwords \n",
        "can be formed with 6 lower case English letters. \n",
        "For a 1 letter password, there would be 26 possibilities. \n",
        "For a 2 letter password, each letter is independent of the other, \n",
        "so there would be 26 times 26 possibilities. \n",
        "Using this information, print the amount of possible passwords that can be formed with 6 letters.\n",
        "'''"
      ],
      "execution_count": null,
      "outputs": []
    },
    {
      "cell_type": "code",
      "metadata": {
        "id": "V18vVDc8BI47"
      },
      "source": [
        "''' Question 2.8:\n",
        "Most hard drives are divided into sectors of 512 bytes each. \n",
        "Our disk has a size of 32 GB. \n",
        "Fill in the blank to calculate how many sectors the disk has.\n",
        "Note: Your result should be in the format of just a number, not a sentence.\n",
        "'''\n",
        "\n",
        "disk_size = 32*1024*1024*1024\n",
        "sector_size = 512\n",
        "sector_amount = ___\n",
        "\n",
        "print(sector_amount)"
      ],
      "execution_count": null,
      "outputs": []
    }
  ]
}