{
  "nbformat": 4,
  "nbformat_minor": 0,
  "metadata": {
    "colab": {
      "name": "4 Conditionals.ipynb",
      "provenance": []
    },
    "kernelspec": {
      "name": "python3",
      "display_name": "Python 3"
    }
  },
  "cells": [
    {
      "cell_type": "code",
      "metadata": {
        "id": "HYe9mbBVBrYM"
      },
      "source": [
        "'''Question 4.1:\n",
        "Complete the script by filling in the missing parts. The function receives a name, \n",
        "then returns a greeting based on whether or not that name is \"Luna\".\n",
        "'''\n",
        "\n",
        "def greeting(name):\n",
        "  if ___ == ___:\n",
        "    return \"Welcome back Luna!\"\n",
        "  ___:\n",
        "    return \"Hello there, \" + name\n",
        "\n",
        "print(greeting(\"Luna\"))\n",
        "print(greeting(\"Amy\"))"
      ],
      "execution_count": null,
      "outputs": []
    },
    {
      "cell_type": "code",
      "metadata": {
        "id": "mivxUWfDB0OW"
      },
      "source": [
        "'''Question 4.2:\n",
        "Complete the function by filling in the missing parts. \n",
        "The color_translator function receives the name of a color,then prints its hexadecimal value. \n",
        "Currently, it only supports the three additive primary colors (red, green, blue), \n",
        "so it returns \"unknown\" for all other colors.\n",
        "'''\n",
        "\n",
        "def color_translator(color):\n",
        "\tif ___ == \"red\":\n",
        "\t\thex_color = \"#ff0000\"\n",
        "\telif ___ == \"green\":\n",
        "\t\thex_color = \"#00ff00\"\n",
        "\telif ___ == \"blue\":\n",
        "\t\thex_color = \"#0000ff\"\n",
        "\t___:\n",
        "\t\thex_color = \"unknown\"\n",
        "\treturn ___\n",
        "\n",
        "print(color_translator(\"blue\")) # Should be: #0000ff\n",
        "print(color_translator(\"yellow\")) # Should be: unknown\n",
        "print(color_translator(\"red\")) # Should be: #ff0000\n",
        "print(color_translator(\"black\")) # Should be: unknown\n",
        "print(color_translator(\"green\")) # Should be: #00ff00\n",
        "print(color_translator(\"\")) # Should be: unknown"
      ],
      "execution_count": null,
      "outputs": []
    },
    {
      "cell_type": "code",
      "metadata": {
        "id": "JS8zEExiB0Qy"
      },
      "source": [
        "'''Question 4.3:\n",
        "Students in a class receive their grades as Pass/Fail. \n",
        "Scores of 50 or more (out of 100) mean that the grade is \"Pass\". \n",
        "For lower scores, the grade is \"Fail\". \n",
        "In addition, scores above 90 (not included) are graded as \"Top Score\". \n",
        "Fill in this function so that it returns the proper grade.\n",
        "'''\n",
        "\n",
        "def exam_grade(score):\n",
        "\tif ___:\n",
        "\t\tgrade = \"Top Score\"\n",
        "\telif ___:\n",
        "\t\tgrade = \"Pass\"\n",
        "\telse:\n",
        "\t\tgrade = \"Fail\"\n",
        "\treturn grade\n",
        "\n",
        "print(exam_grade(65)) # Should be Pass\n",
        "print(exam_grade(45)) # Should be Fail\n",
        "print(exam_grade(60)) # Should be Pass\n",
        "print(exam_grade(90)) # Should be Pass\n",
        "print(exam_grade(91)) # Should be Top Score\n",
        "print(exam_grade(0)) # Should be Fail"
      ],
      "execution_count": null,
      "outputs": []
    },
    {
      "cell_type": "code",
      "metadata": {
        "id": "dlfTcbsNB0TN"
      },
      "source": [
        "'''Question 4.4:\n",
        "Complete the body of the format_name function. \n",
        "This function receives the first_name and last_name parameters \n",
        "and then returns a properly formatted string.\n",
        "Specifically:\n",
        "If both the last_name and the first_name parameters are supplied, \n",
        "the function should return like so:\n",
        "\tprint(format_name(\"Ella\", \"Fitzgerald\"))\n",
        "\tName: Fitzgerald, Ella\n",
        "If only one name parameter is supplied (either the first name or the last name), \n",
        "the function should return like so:\n",
        "\tprint(format_name(\"Adele\", \"\"))\n",
        "\tName: Adele\n",
        "or\n",
        "\tprint(format_name(\"\", \"Einstein\"))\n",
        "\tName: Einstein\n",
        "Finally, if both names are blank, the function should return the empty string:\n",
        "\tprint(format_name(\"\", \"\"))\n",
        "'''\n",
        "\n",
        "def format_name(first_name, last_name):\n",
        "\t# code goes here\n",
        "\t\n",
        "\treturn string \n",
        "\n",
        "print(format_name(\"Ernest\", \"Hemingway\")) # Should return the string \"Name: Hemingway, Ernest\"\n",
        "print(format_name(\"\", \"Madonna\")) # Should return the string \"Name: Madonna\"\n",
        "print(format_name(\"Voltaire\", \"\")) # Should return the string \"Name: Voltaire\"\n",
        "print(format_name(\"\", \"\")) # Should return an empty string"
      ],
      "execution_count": null,
      "outputs": []
    },
    {
      "cell_type": "code",
      "metadata": {
        "id": "3hHkT_pUB0V4"
      },
      "source": [
        "\n",
        "'''Question 4.5:\n",
        "The longest_word function is used to compare 3 words. \n",
        "It should return the word with the most number of characters \n",
        "(and the first in the list when they have the same length). \n",
        "Fill in the blank to make this happen.\n",
        "'''\n",
        "\n",
        "def longest_word(word1, word2, word3):\n",
        "\tif len(word1) >= len(word2) and len(word1) >= len(word3):\n",
        "\t\tword = word1\n",
        "\telif ___:\n",
        "\t\tword = word2\n",
        "\telse:\n",
        "\t\tword = word3\n",
        "\treturn(word)\n",
        "\n",
        "print(longest_word(\"chair\", \"couch\", \"table\"))\n",
        "print(longest_word(\"bed\", \"bath\", \"beyond\"))\n",
        "print(longest_word(\"laptop\", \"notebook\", \"desktop\"))"
      ],
      "execution_count": null,
      "outputs": []
    },
    {
      "cell_type": "code",
      "metadata": {
        "id": "Ae4QPNvhB0YN"
      },
      "source": [
        "'''Question 4.6:\n",
        "The fractional_part function divides the numerator by the denominator, \n",
        "and returns just the fractional part (a number between 0 and 1). \n",
        "Complete the body of the function so that it returns the right number. \n",
        "Note: Since division by 0 produces an error, if the denominator is 0, \n",
        "the function should return 0 instead of attempting the division.\n",
        "'''\n",
        "\n",
        "def fractional_part(numerator, denominator):\n",
        "\t# Operate with numerator and denominator to keep just the fractional part of the quotient\n",
        "\t\n",
        "\treturn 0\n",
        "\n",
        "print(fractional_part(5, 5)) # Should be 0\n",
        "print(fractional_part(5, 4)) # Should be 0.25\n",
        "print(fractional_part(5, 3)) # Should be 0.66...\n",
        "print(fractional_part(5, 2)) # Should be 0.5\n",
        "print(fractional_part(5, 0)) # Should be 0\n",
        "print(fractional_part(0, 5)) # Should be 0"
      ],
      "execution_count": null,
      "outputs": []
    },
    {
      "cell_type": "code",
      "metadata": {
        "id": "UMIyyY1KB0a6"
      },
      "source": [
        ""
      ],
      "execution_count": null,
      "outputs": []
    },
    {
      "cell_type": "code",
      "metadata": {
        "id": "SoUdPHjJB0dK"
      },
      "source": [
        ""
      ],
      "execution_count": null,
      "outputs": []
    }
  ]
}