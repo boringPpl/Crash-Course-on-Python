{
  "nbformat": 4,
  "nbformat_minor": 0,
  "metadata": {
    "colab": {
      "name": "3 Function.ipynb",
      "provenance": []
    },
    "kernelspec": {
      "name": "python3",
      "display_name": "Python 3"
    }
  },
  "cells": [
    {
      "cell_type": "code",
      "metadata": {
        "id": "C5PRCHQkBWBy"
      },
      "source": [
        "''' Question 3.1:\n",
        "This function converts miles to kilometers (km).\n",
        "1. Complete the function to return the result of the conversion\n",
        "2. Call the function to convert the trip distance from miles to kilometers\n",
        "3. Fill in the blank to print the result of the conversion\n",
        "4. Calculate the round-trip in kilometers by doubling the result, and fill in the blank to print the result\n",
        "'''\n",
        "\n",
        "# 1) Complete the function to return the result of the conversion\n",
        "def convert_distance(miles):\n",
        "\tkm = miles * 1.6  # approximately 1.6 km in 1 mile\n",
        "\n",
        "my_trip_miles = 60\n",
        "\n",
        "# 2) Convert my_trip_miles to kilometers by calling the function above\n",
        "my_trip_km = ___\n",
        "\n",
        "# 3) Fill in the blank to print the result of the conversion\n",
        "print(\"The distance in kilometers is \" + ___)\n",
        "\n",
        "# 4) Calculate the round-trip in kilometers by doubling the result,\n",
        "#    and fill in the blank to print the result\n",
        "print(\"The round-trip in kilometers is \" + ___)"
      ],
      "execution_count": null,
      "outputs": []
    },
    {
      "cell_type": "code",
      "metadata": {
        "id": "UNFZDMoSBgia"
      },
      "source": [
        "''' Question 3.2:\n",
        "This function compares two numbers and returns them in decreasing order.\n",
        "Fill in the blanks, so the print statement displays the result of the function call in order.\n",
        "Hint: if a function returns multiple values, don't forget to store these values in multiple variables\n",
        "'''\n",
        "\n",
        "# This function compares two numbers and returns them in increasing order.\n",
        "def order_numbers(number1, number2):\n",
        "\tif number2 __ number1:\n",
        "\t\treturn number1, number2\n",
        "\telse:\n",
        "\t\treturn number2, number1\n",
        "\n",
        "# Fill in the blanks so the print statement displays the result of the function call\n",
        "___, ___ = order_numbers(100, 99)\n",
        "print(smaller, bigger)"
      ],
      "execution_count": null,
      "outputs": []
    },
    {
      "cell_type": "code",
      "metadata": {
        "id": "WzJXxzKTBglY"
      },
      "source": [
        "''' Question 3.3:\n",
        "Let's revisit our lucky_number function. \n",
        "We want to change it, so that instead of printing the message, \n",
        "it returns the message. This way, the calling line can print the message, \n",
        "or do something else with it if needed. \n",
        "ill in the blanks to complete the code to make it work.\n",
        "'''\n",
        "\n",
        "def lucky_number(name):\n",
        "  number = len(name) * 9\n",
        "  ___ = \"Hello \" + name + \". Your lucky number is \" + str(number)\n",
        "  ___\n",
        "\t    \n",
        "print(lucky_number(\"Kay\"))\n",
        "print(lucky_number(\"Cameron\"))"
      ],
      "execution_count": null,
      "outputs": []
    },
    {
      "cell_type": "code",
      "metadata": {
        "id": "tWAnTxNIBgpd"
      },
      "source": [
        ""
      ],
      "execution_count": null,
      "outputs": []
    }
  ]
}