{
  "nbformat": 4,
  "nbformat_minor": 0,
  "metadata": {
    "colab": {
      "name": "1 Basic Syntax.ipynb",
      "provenance": []
    },
    "kernelspec": {
      "name": "python3",
      "display_name": "Python 3"
    }
  },
  "cells": [
    {
      "cell_type": "code",
      "metadata": {
        "id": "Ad6Qv41YAgqA"
      },
      "source": [
        "'''Question 1.1:\n",
        "Fill in the __ to print output the text on the screen\n",
        "'''\n",
        "\n",
        "# Output: Hello World\n",
        "print(__)\n",
        "\n",
        "# Output: Hello [your name]\n",
        "print(__)\n",
        "\n",
        "# Output: I love interactive videos!\n",
        "print(__)\n",
        "\n",
        "# Output: How to print \"Hello World\"?\n",
        "print(__)"
      ],
      "execution_count": null,
      "outputs": []
    }
  ]
}