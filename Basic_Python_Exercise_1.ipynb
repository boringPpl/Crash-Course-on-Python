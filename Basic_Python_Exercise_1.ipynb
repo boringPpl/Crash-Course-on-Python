{
  "nbformat": 4,
  "nbformat_minor": 0,
  "metadata": {
    "kernelspec": {
      "display_name": "Python 3",
      "language": "python",
      "name": "python3"
    },
    "language_info": {
      "codemirror_mode": {
        "name": "ipython",
        "version": 3
      },
      "file_extension": ".py",
      "mimetype": "text/x-python",
      "name": "python",
      "nbconvert_exporter": "python",
      "pygments_lexer": "ipython3",
      "version": "3.7.6"
    },
    "colab": {
      "name": "Basic Python Exercise 1.ipynb",
      "provenance": [],
      "include_colab_link": true
    }
  },
  "cells": [
    {
      "cell_type": "markdown",
      "metadata": {
        "id": "view-in-github",
        "colab_type": "text"
      },
      "source": [
        "<a href=\"https://colab.research.google.com/github/boringPpl/python-roadmap-foundation-to-application/blob/master/Basic_Python_Exercise_1.ipynb\" target=\"_parent\"><img src=\"https://colab.research.google.com/assets/colab-badge.svg\" alt=\"Open In Colab\"/></a>"
      ]
    },
    {
      "cell_type": "markdown",
      "metadata": {
        "id": "zs5L-7htAKTp",
        "colab_type": "text"
      },
      "source": [
        "## Practice Quiz 1: Introduction to Programming\n",
        "TOTAL POINTS 5\n",
        "### 1.Question 1\n",
        "What’s a computer program?\n",
        "\n",
        "1 point\n",
        "\n",
        "- [ ] A set of languages available in the computer\n",
        "- [ ] A process for getting duplicate values removed from a list\n",
        "- [ ] A list of instructions that the computer has to follow to reach a goal\n",
        "- [ ] A file that gets copied to all machines in the network"
      ]
    },
    {
      "cell_type": "markdown",
      "metadata": {
        "id": "lBSgIUGZAKTr",
        "colab_type": "text"
      },
      "source": [
        "### 2.Question 2\n",
        "What’s the syntax of a language?\n",
        "\n",
        "1 point\n",
        "\n",
        "- [ ] The rules of how to express things in that language\n",
        "- [ ] The subject of a sentence\n",
        "- [ ] The difference between one language and another\n",
        "- [ ] The meaning of the words"
      ]
    },
    {
      "cell_type": "markdown",
      "metadata": {
        "id": "6kR4ZVSaAKTr",
        "colab_type": "text"
      },
      "source": [
        "### 3.Question 3\n",
        "What’s the difference between a program and a script?\n",
        "\n",
        "1 point\n",
        "\n",
        "- [ ] There’s not much difference, but scripts are usually simpler and shorter.\n",
        "- [ ] Scripts are only written in Python.\n",
        "- [ ] Scripts can only be used for simple tasks.\n",
        "- [ ] Programs are written by software engineers; scripts are written by system administrators."
      ]
    },
    {
      "cell_type": "markdown",
      "metadata": {
        "id": "7H4rOyxLAKTs",
        "colab_type": "text"
      },
      "source": [
        "### 4.Question 4\n",
        "Which of these scenarios are good candidates for automation? Select all that apply.\n",
        "\n",
        "1 point\n",
        "\n",
        "- [ ] Generating a sales report, split by region and product type\n",
        "- [ ] Creating your own startup company\n",
        "- [ ] Helping a user who’s having network troubles\n",
        "- [ ] Copying a file to all computers in a company\n",
        "- [ ] Interviewing a candidate for a job\n",
        "- [ ] Sending personalized emails to subscribers of your website\n",
        "- [ ] Investigating the root cause of a machine failing to boot"
      ]
    },
    {
      "cell_type": "markdown",
      "metadata": {
        "id": "AFmyojpqAKTt",
        "colab_type": "text"
      },
      "source": [
        "### 5.Question 5\n",
        "What are semantics when applied to programming code and pseudocode?\n",
        "\n",
        "1 point\n",
        "\n",
        "- [ ] The rules for how a programming instruction is written\n",
        "- [ ] The difference in number values in one instance of a script compared to another\n",
        "- [ ] The effect the programming instructions have\n",
        "- [ ] The end result of a programming instruction"
      ]
    },
    {
      "cell_type": "markdown",
      "metadata": {
        "id": "fVShLLQhAKTt",
        "colab_type": "text"
      },
      "source": [
        "## Practice Quiz 2: Introduction to Python\n",
        "TOTAL POINTS 5\n",
        "### 1.Question 1\n",
        "Fill in the correct Python command to put “My first Python program” onto the screen.\n",
        "\n",
        "1 / 1 point"
      ]
    },
    {
      "cell_type": "code",
      "metadata": {
        "id": "QTSb312dAKTu",
        "colab_type": "code",
        "colab": {}
      },
      "source": [
        "# write your code here\n"
      ],
      "execution_count": null,
      "outputs": []
    },
    {
      "cell_type": "markdown",
      "metadata": {
        "id": "wPuGL3OeAKTy",
        "colab_type": "text"
      },
      "source": [
        "### 2.Question 2\n",
        "Python is an example of what type of programming language?\n",
        "\n",
        "1 / 1 point\n",
        "\n",
        "- [ ] Platform-specific scripting language\n",
        "- [ ] General purpose scripting language\n",
        "- [ ] Client-side scripting language\n",
        "- [ ] Machine language"
      ]
    },
    {
      "cell_type": "markdown",
      "metadata": {
        "id": "3pFASB-GAKTz",
        "colab_type": "text"
      },
      "source": [
        "### 3.Question 3\n",
        "Convert this Bash command into Python:\n",
        "\n",
        "1 / 1 point"
      ]
    },
    {
      "cell_type": "code",
      "metadata": {
        "id": "MCxE4IfbAKTz",
        "colab_type": "code",
        "colab": {}
      },
      "source": [
        "# echo Have a nice day\n",
        "# write your Python command here\n"
      ],
      "execution_count": null,
      "outputs": []
    },
    {
      "cell_type": "markdown",
      "metadata": {
        "id": "lveV2Y2vAKT2",
        "colab_type": "text"
      },
      "source": [
        "### 4.Question 4\n",
        "Fill in the correct Python commands to put “This is fun!” onto the screen 5 times.\n",
        "\n",
        "1 / 1 point"
      ]
    },
    {
      "cell_type": "code",
      "metadata": {
        "id": "Smu0p3koAKT2",
        "colab_type": "code",
        "colab": {}
      },
      "source": [
        "for i in __: \n",
        "\t__(\"This is fun!\")"
      ],
      "execution_count": null,
      "outputs": []
    },
    {
      "cell_type": "markdown",
      "metadata": {
        "id": "inIFtLEnAKT5",
        "colab_type": "text"
      },
      "source": [
        "### 5.Question 5\n",
        "Select the Python code snippet that corresponds to the following Javascript snippet:"
      ]
    },
    {
      "cell_type": "code",
      "metadata": {
        "id": "mYzNVB4AAKT7",
        "colab_type": "code",
        "colab": {}
      },
      "source": [
        "for (let i = 0; i < 10; i++) {\n",
        "        console.log(i);\n",
        "    }"
      ],
      "execution_count": null,
      "outputs": []
    },
    {
      "cell_type": "markdown",
      "metadata": {
        "id": "eTxcwAiWAKT-",
        "colab_type": "text"
      },
      "source": [
        "1 / 1 point\n",
        "\n",
        "- [ ] 1. "
      ]
    },
    {
      "cell_type": "code",
      "metadata": {
        "id": "bHRnGNxyAKT-",
        "colab_type": "code",
        "colab": {}
      },
      "source": [
        "for a in 1..5 do\n",
        "      \n",
        " puts i \n",
        "\n",
        "end"
      ],
      "execution_count": null,
      "outputs": []
    },
    {
      "cell_type": "markdown",
      "metadata": {
        "id": "YnAsADWPAKUB",
        "colab_type": "text"
      },
      "source": [
        "- [ ] 2. "
      ]
    },
    {
      "cell_type": "code",
      "metadata": {
        "id": "yF4uyrtsAKUC",
        "colab_type": "code",
        "colab": {}
      },
      "source": [
        "for (int i = 0; i < 10; i++)\n",
        "{\n",
        "print()\n",
        "}"
      ],
      "execution_count": null,
      "outputs": []
    },
    {
      "cell_type": "markdown",
      "metadata": {
        "id": "3E_K5bgXAKUF",
        "colab_type": "text"
      },
      "source": [
        "- [ ] 3. "
      ]
    },
    {
      "cell_type": "code",
      "metadata": {
        "id": "MDvqnBDfAKUF",
        "colab_type": "code",
        "colab": {}
      },
      "source": [
        "for (i in x) \n",
        "{\n",
        "print(i)\n",
        "}"
      ],
      "execution_count": null,
      "outputs": []
    },
    {
      "cell_type": "markdown",
      "metadata": {
        "id": "6iouBztXAKUI",
        "colab_type": "text"
      },
      "source": [
        "- [ ] 4. "
      ]
    },
    {
      "cell_type": "code",
      "metadata": {
        "id": "eAh5pzdDAKUI",
        "colab_type": "code",
        "colab": {}
      },
      "source": [
        "for i in range(10):\n",
        "    print(i)"
      ],
      "execution_count": null,
      "outputs": []
    },
    {
      "cell_type": "markdown",
      "metadata": {
        "id": "BNIIcS7LAKUL",
        "colab_type": "text"
      },
      "source": [
        "## Practice Quiz 3: Hello World\n",
        "TOTAL POINTS 5\n",
        "### 1.Question 1\n",
        "What are functions in Python?\n",
        "\n",
        "1 point\n",
        "\n",
        "- [ ] Functions let us to use Python as a calculator.\n",
        "- [ ] Functions are pieces of code that perform a unit of work.\n",
        "- [ ] Functions are only used to print messages to the screen.\n",
        "- [ ] Functions are how we tell if our program is functioning or not."
      ]
    },
    {
      "cell_type": "markdown",
      "metadata": {
        "id": "V-qKTLEhAKUL",
        "colab_type": "text"
      },
      "source": [
        "### 2.Question 2\n",
        "What are keywords in Python?\n",
        "\n",
        "1 point\n",
        "\n",
        "- [ ] Keywords are reserved words that are used to construct instructions.\n",
        "- [ ] Keywords are used to calculate mathematical operations.\n",
        "- [ ] Keywords are used to print messages like \"Hello World!\" to the screen.\n",
        "- [ ] Keywords are the words that we need to memorize to program in Python."
      ]
    },
    {
      "cell_type": "markdown",
      "metadata": {
        "id": "tXkVfpfoAKUL",
        "colab_type": "text"
      },
      "source": [
        "### 3.Question 3\n",
        "What does the print function do in Python?\n",
        "\n",
        "1 point\n",
        "\n",
        "- [ ] The print function generates PDFs and sends it to the nearest printer.\n",
        "- [ ] The print function stores values provided by the user.\n",
        "- [ ] The print function outputs messages to the screen\n",
        "- [ ] The print function calculates mathematical operations."
      ]
    },
    {
      "cell_type": "markdown",
      "metadata": {
        "id": "_zw2EhRDAKUN",
        "colab_type": "text"
      },
      "source": [
        "### 4.Question 4\n",
        "Output a message that says \"Programming in Python is fun!\" to the screen."
      ]
    },
    {
      "cell_type": "code",
      "metadata": {
        "id": "ryt2d_joAKUN",
        "colab_type": "code",
        "colab": {}
      },
      "source": [
        "# write your code here\n",
        "\n"
      ],
      "execution_count": null,
      "outputs": []
    },
    {
      "cell_type": "markdown",
      "metadata": {
        "id": "6SGcTxDcAKUQ",
        "colab_type": "text"
      },
      "source": [
        "### 5.Question 5\n",
        "Replace the ___ placeholder and calculate the Golden ratio:"
      ]
    },
    {
      "cell_type": "markdown",
      "metadata": {
        "id": "v70dVuZaAKUQ",
        "colab_type": "text"
      },
      "source": [
        "![helloworld_ex.png](data:image/png;base64,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)"
      ]
    },
    {
      "cell_type": "markdown",
      "metadata": {
        "id": "HBA6rYqnAKUR",
        "colab_type": "text"
      },
      "source": [
        "Tip: to calculate the square root of a number xx, you can use x**(1/2)."
      ]
    },
    {
      "cell_type": "code",
      "metadata": {
        "id": "zCakq5KfAKUR",
        "colab_type": "code",
        "colab": {}
      },
      "source": [
        "# replace ___ with your code\n",
        "ratio = ___ \n",
        "print(ratio)"
      ],
      "execution_count": null,
      "outputs": []
    },
    {
      "cell_type": "markdown",
      "metadata": {
        "id": "IMzFhxhsAKUU",
        "colab_type": "text"
      },
      "source": [
        "## Module 1 Graded Assessment\n",
        "\n",
        "### 1.Question 1\n",
        "What is a computer program?\n",
        "\n",
        "1 / 1 point\n",
        "\n",
        "- [ ] A file that gets printed by the Python interpreter.\n",
        "- [ ] The syntax and semantics of Python.\n",
        "- [ ] The overview of what the computer will have to do to solve some automation problem.\n",
        "- [ ] A step-by-step recipe of what needs to be done to complete a task, that gets executed by the computer.\n",
        "\n",
        "### 2.Question 2\n",
        "What’s automation?\n",
        "\n",
        "1 / 1 point\n",
        "\n",
        "- [ ] The inputs and outputs of a program.\n",
        "- [ ] The process of replacing a manual step with one that happens automatically.\n",
        "- [ ] The checkout processes at a grocery store.\n",
        "- [ ] The process of getting a haircut.\n",
        "\n",
        "### 3.Question 3\n",
        "Which of the following tasks are good candidates for automation? Check all that apply.\n",
        "\n",
        "1 / 1 point\n",
        "\n",
        "- [ ] Writing a computer program.\n",
        "- [ ] Creating a report of how much each sales person has sold in the last month.\n",
        "- [ ] Setting the home directory and access permissions for new employees joining your company.\n",
        "- [ ] Designing the new webpage for your company.\n",
        "- [ ] Taking pictures of friends and family at a wedding.\n",
        "- [ ] Populating your company's e-commerce site with the latest products in the catalog.\n",
        "\n",
        "### 4.Question 4\n",
        "What are some characteristics of the Python programming language? Check all that apply.\n",
        "\n",
        "1 / 1 point\n",
        "\n",
        "- [ ] Python programs are easy to write and understand.\n",
        "The Python interpreter reads our code and transforms it into computer instructions.\n",
        "- [ ] It's an outdated language that's barely in use anymore.\n",
        "- [ ] We can practice Python using web interpreters or codepads as well as executing it locally.\n",
        "\n",
        "### 5.Question 5\n",
        "How does Python compare to other programming languages?\n",
        "\n",
        "- [ ] Python is the only programming language that is worth learning.\n",
        "- [ ] Each programming language has its advantages and disadvantages.\n",
        "- [ ] It's always better to use an OS specific language like Bash or Powershell than using a generic language like Python.\n",
        "- [ ] Programming languages are so different that learning a second one is harder than learning the first one."
      ]
    },
    {
      "cell_type": "markdown",
      "metadata": {
        "id": "HZsq9_rVAKUU",
        "colab_type": "text"
      },
      "source": [
        "### 6.Question 6\n",
        "Write a Python script that outputs \"Automating with Python is fun!\" to the screen.\n",
        "\n",
        "1 / 1 point"
      ]
    },
    {
      "cell_type": "code",
      "metadata": {
        "id": "oaG1GNoSAKUV",
        "colab_type": "code",
        "colab": {}
      },
      "source": [
        "# write your code here\n"
      ],
      "execution_count": null,
      "outputs": []
    },
    {
      "cell_type": "markdown",
      "metadata": {
        "id": "5l7X_SojAKUY",
        "colab_type": "text"
      },
      "source": [
        "### 7.Question 7\n",
        "Fill in the blanks so that the code prints \"Yellow is the color of sunshine\".\n",
        "\n",
        "1 / 1 point"
      ]
    },
    {
      "cell_type": "code",
      "metadata": {
        "id": "M_9E-nZUAKUY",
        "colab_type": "code",
        "colab": {}
      },
      "source": [
        "color = ___\n",
        "thing = ___\n",
        "print(color + \" is the color of \" + thing)"
      ],
      "execution_count": null,
      "outputs": []
    },
    {
      "cell_type": "markdown",
      "metadata": {
        "id": "pRRZoNdFAKUa",
        "colab_type": "text"
      },
      "source": [
        "### 8.Question 8\n",
        "Keeping in mind there are 86400 seconds per day, write a program that calculates how many seconds there are in a week, if a week is 7 days. Print the result on the screen.\n",
        "\n",
        "Note: Your result should be in the format of just a number, not a sentence."
      ]
    },
    {
      "cell_type": "code",
      "metadata": {
        "id": "zIBwhoTcAKUb",
        "colab_type": "code",
        "colab": {}
      },
      "source": [
        "# write your code here\n"
      ],
      "execution_count": null,
      "outputs": []
    },
    {
      "cell_type": "markdown",
      "metadata": {
        "id": "LTA3n6RCAKUe",
        "colab_type": "text"
      },
      "source": [
        "### 9.Question 9\n",
        "Use Python to calculate how many different passwords can be formed with 6 lower case English letters. For a 1 letter password, there would be 26 possibilities. For a 2 letter password, each letter is independent of the other, so there would be 26 times 26 possibilities. Using this information, print the amount of possible passwords that can be formed with 6 letters.\n",
        "\n",
        "1 / 1 point"
      ]
    },
    {
      "cell_type": "code",
      "metadata": {
        "id": "TmIYJvH2AKUe",
        "colab_type": "code",
        "colab": {}
      },
      "source": [
        "# write your code here\n"
      ],
      "execution_count": null,
      "outputs": []
    },
    {
      "cell_type": "markdown",
      "metadata": {
        "id": "37GZdCjIAKUg",
        "colab_type": "text"
      },
      "source": [
        "### 10.Question 10\n",
        "Most hard drives are divided into sectors of 512 bytes each. Our disk has a size of 16 GB. Fill in the blank to calculate how many sectors the disk has.\n",
        "\n",
        "Note: Your result should be in the format of just a number, not a sentence.\n",
        "\n",
        "1 / 1 point"
      ]
    },
    {
      "cell_type": "code",
      "metadata": {
        "id": "vfUK9v65AKUh",
        "colab_type": "code",
        "colab": {}
      },
      "source": [
        "disk_size = ___\n",
        "sector_size = ___\n",
        "sector_amount = ___\n",
        "\n",
        "print(sector_amount)"
      ],
      "execution_count": null,
      "outputs": []
    }
  ]
}