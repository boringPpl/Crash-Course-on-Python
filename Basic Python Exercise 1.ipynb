<table align="center">
  <td align="center"><a target="_blank" href="https://colab.research.google.com/github/aamini/introtodeeplearning/blob/master/lab1/Part1_TensorFlow.ipynb">
        <img src="http://introtodeeplearning.com/images/colab/colab.png?v2.0"  style="padding-bottom:5px;" />Run in Google Colab</a></td>
  <td align="center"><a target="_blank" href="https://github.com/aamini/introtodeeplearning/blob/master/lab1/Part1_TensorFlow.ipynb">
        <img src="http://introtodeeplearning.com/images/colab/github.png"  height="70px" style="padding-bottom:5px;"  />View Source on GitHub</a></td>
</table>

{
 "cells": [
  {
   "cell_type": "markdown",
   "metadata": {},
   "source": [
    "## Practice Quiz 1: Introduction to Programming\n",
    "TOTAL POINTS 5\n",
    "### 1.Question 1\n",
    "What’s a computer program?\n",
    "\n",
    "1 point\n",
    "\n",
    "- [ ] A set of languages available in the computer\n",
    "- [ ] A process for getting duplicate values removed from a list\n",
    "- [ ] A list of instructions that the computer has to follow to reach a goal\n",
    "- [ ] A file that gets copied to all machines in the network"
   ]
  },
  {
   "cell_type": "markdown",
   "metadata": {},
   "source": [
    "### 2.Question 2\n",
    "What’s the syntax of a language?\n",
    "\n",
    "1 point\n",
    "\n",
    "- [ ] The rules of how to express things in that language\n",
    "- [ ] The subject of a sentence\n",
    "- [ ] The difference between one language and another\n",
    "- [ ] The meaning of the words"
   ]
  },
  {
   "cell_type": "markdown",
   "metadata": {},
   "source": [
    "### 3.Question 3\n",
    "What’s the difference between a program and a script?\n",
    "\n",
    "1 point\n",
    "\n",
    "- [ ] There’s not much difference, but scripts are usually simpler and shorter.\n",
    "- [ ] Scripts are only written in Python.\n",
    "- [ ] Scripts can only be used for simple tasks.\n",
    "- [ ] Programs are written by software engineers; scripts are written by system administrators."
   ]
  },
  {
   "cell_type": "markdown",
   "metadata": {},
   "source": [
    "### 4.Question 4\n",
    "Which of these scenarios are good candidates for automation? Select all that apply.\n",
    "\n",
    "1 point\n",
    "\n",
    "- [ ] Generating a sales report, split by region and product type\n",
    "- [ ] Creating your own startup company\n",
    "- [ ] Helping a user who’s having network troubles\n",
    "- [ ] Copying a file to all computers in a company\n",
    "- [ ] Interviewing a candidate for a job\n",
    "- [ ] Sending personalized emails to subscribers of your website\n",
    "- [ ] Investigating the root cause of a machine failing to boot"
   ]
  },
  {
   "cell_type": "markdown",
   "metadata": {},
   "source": [
    "### 5.Question 5\n",
    "What are semantics when applied to programming code and pseudocode?\n",
    "\n",
    "1 point\n",
    "\n",
    "- [ ] The rules for how a programming instruction is written\n",
    "- [ ] The difference in number values in one instance of a script compared to another\n",
    "- [ ] The effect the programming instructions have\n",
    "- [ ] The end result of a programming instruction"
   ]
  },
  {
   "cell_type": "markdown",
   "metadata": {},
   "source": [
    "## Practice Quiz 2: Introduction to Python\n",
    "TOTAL POINTS 5\n",
    "### 1.Question 1\n",
    "Fill in the correct Python command to put “My first Python program” onto the screen.\n",
    "\n",
    "1 / 1 point"
   ]
  },
  {
   "cell_type": "code",
   "execution_count": null,
   "metadata": {},
   "outputs": [],
   "source": [
    "print(\"My first Python program\")"
   ]
  },
  {
   "cell_type": "markdown",
   "metadata": {},
   "source": [
    "### 2.Question 2\n",
    "Python is an example of what type of programming language?\n",
    "\n",
    "1 / 1 point\n",
    "\n",
    "- [ ] Platform-specific scripting language\n",
    "- [ ] General purpose scripting language\n",
    "- [ ] Client-side scripting language\n",
    "- [ ] Machine language"
   ]
  },
  {
   "cell_type": "markdown",
   "metadata": {},
   "source": [
    "### 3.Question 3\n",
    "Convert this Bash command into Python:\n",
    "\n",
    "1 / 1 point"
   ]
  },
  {
   "cell_type": "code",
   "execution_count": null,
   "metadata": {},
   "outputs": [],
   "source": [
    "# echo Have a nice day\n",
    "# write your Python command here\n"
   ]
  },
  {
   "cell_type": "markdown",
   "metadata": {},
   "source": [
    "### 4.Question 4\n",
    "Fill in the correct Python commands to put “This is fun!” onto the screen 5 times.\n",
    "\n",
    "1 / 1 point"
   ]
  },
  {
   "cell_type": "code",
   "execution_count": null,
   "metadata": {},
   "outputs": [],
   "source": [
    "for i in range(5):\n",
    "    print(\"This is fun!\")"
   ]
  },
  {
   "cell_type": "markdown",
   "metadata": {},
   "source": [
    "### 5.Question 5\n",
    "Select the Python code snippet that corresponds to the following Javascript snippet:"
   ]
  },
  {
   "cell_type": "code",
   "execution_count": null,
   "metadata": {},
   "outputs": [],
   "source": [
    "for (let i = 0; i < 10; i++) {\n",
    "        console.log(i);\n",
    "    }"
   ]
  },
  {
   "cell_type": "markdown",
   "metadata": {},
   "source": [
    "1 / 1 point\n",
    "\n",
    "- [ ] 1. "
   ]
  },
  {
   "cell_type": "code",
   "execution_count": null,
   "metadata": {},
   "outputs": [],
   "source": [
    "for a in 1..5 do\n",
    "      \n",
    " puts i \n",
    "\n",
    "end"
   ]
  },
  {
   "cell_type": "markdown",
   "metadata": {},
   "source": [
    "- [ ] 2. "
   ]
  },
  {
   "cell_type": "code",
   "execution_count": null,
   "metadata": {},
   "outputs": [],
   "source": [
    "for (int i = 0; i < 10; i++)\n",
    "{\n",
    "print()\n",
    "}"
   ]
  },
  {
   "cell_type": "markdown",
   "metadata": {},
   "source": [
    "- [ ] 3. "
   ]
  },
  {
   "cell_type": "code",
   "execution_count": null,
   "metadata": {},
   "outputs": [],
   "source": [
    "for (i in x) \n",
    "{\n",
    "print(i)\n",
    "}"
   ]
  },
  {
   "cell_type": "markdown",
   "metadata": {},
   "source": [
    "- [ ] 4. "
   ]
  },
  {
   "cell_type": "code",
   "execution_count": null,
   "metadata": {},
   "outputs": [],
   "source": [
    "for i in range(10):\n",
    "    print(i)"
   ]
  },
  {
   "cell_type": "markdown",
   "metadata": {},
   "source": [
    "## Practice Quiz 3: Hello World\n",
    "TOTAL POINTS 5\n",
    "### 1.Question 1\n",
    "What are functions in Python?\n",
    "\n",
    "1 point\n",
    "\n",
    "- [ ] Functions let us to use Python as a calculator.\n",
    "- [ ] Functions are pieces of code that perform a unit of work.\n",
    "- [ ] Functions are only used to print messages to the screen.\n",
    "- [ ] Functions are how we tell if our program is functioning or not."
   ]
  },
  {
   "cell_type": "markdown",
   "metadata": {},
   "source": [
    "### 2.Question 2\n",
    "What are keywords in Python?\n",
    "\n",
    "1 point\n",
    "\n",
    "- [ ] Keywords are reserved words that are used to construct instructions.\n",
    "- [ ] Keywords are used to calculate mathematical operations.\n",
    "- [ ] Keywords are used to print messages like \"Hello World!\" to the screen.\n",
    "- [ ] Keywords are the words that we need to memorize to program in Python."
   ]
  },
  {
   "cell_type": "markdown",
   "metadata": {},
   "source": [
    "### 3.Question 3\n",
    "What does the print function do in Python?\n",
    "\n",
    "1 point\n",
    "\n",
    "- [ ] The print function generates PDFs and sends it to the nearest printer.\n",
    "- [ ] The print function stores values provided by the user.\n",
    "- [ ] The print function outputs messages to the screen\n",
    "- [ ] The print function calculates mathematical operations."
   ]
  },
  {
   "cell_type": "markdown",
   "metadata": {},
   "source": [
    "### 4.Question 4\n",
    "Output a message that says \"Programming in Python is fun!\" to the screen."
   ]
  },
  {
   "cell_type": "code",
   "execution_count": null,
   "metadata": {},
   "outputs": [],
   "source": [
    "# write your code here\n"
   ]
  },
  {
   "cell_type": "markdown",
   "metadata": {},
   "source": [
    "### 5.Question 5\n",
    "Replace the ___ placeholder and calculate the Golden ratio:"
   ]
  },
  {
   "attachments": {
    "Screen%20Shot%202020-07-15%20at%2010.27.37%20AM.png": {
     "image/png": "[encoded data removed]"
    }
   },
   "cell_type": "markdown",
   "metadata": {},
   "source": [
    "![Screen%20Shot%202020-07-15%20at%2010.27.37%20AM.png](attachment:Screen%20Shot%202020-07-15%20at%2010.27.37%20AM.png)"
   ]
  },
  {
   "cell_type": "markdown",
   "metadata": {},
   "source": [
    "Tip: to calculate the square root of a number xx, you can use x**(1/2)."
   ]
  },
  {
   "cell_type": "code",
   "execution_count": null,
   "metadata": {},
   "outputs": [],
   "source": [
    "# replace ___ with your code\n",
    "ratio = ___ \n",
    "print(ratio)"
   ]
  },
  {
   "cell_type": "markdown",
   "metadata": {},
   "source": [
    "## Module 1 Graded Assessment\n",
    "\n",
    "### 1.Question 1\n",
    "What is a computer program?\n",
    "\n",
    "1 / 1 point\n",
    "\n",
    "- [ ] A file that gets printed by the Python interpreter.\n",
    "- [ ] The syntax and semantics of Python.\n",
    "- [ ] The overview of what the computer will have to do to solve some automation problem.\n",
    "- [ ] A step-by-step recipe of what needs to be done to complete a task, that gets executed by the computer.\n",
    "\n",
    "### 2.Question 2\n",
    "What’s automation?\n",
    "\n",
    "1 / 1 point\n",
    "\n",
    "- [ ] The inputs and outputs of a program.\n",
    "- [ ] The process of replacing a manual step with one that happens automatically.\n",
    "- [ ] The checkout processes at a grocery store.\n",
    "- [ ] The process of getting a haircut.\n",
    "\n",
    "### 3.Question 3\n",
    "Which of the following tasks are good candidates for automation? Check all that apply.\n",
    "\n",
    "1 / 1 point\n",
    "\n",
    "- [ ] Writing a computer program.\n",
    "- [ ] Creating a report of how much each sales person has sold in the last month.\n",
    "- [ ] Setting the home directory and access permissions for new employees joining your company.\n",
    "- [ ] Designing the new webpage for your company.\n",
    "- [ ] Taking pictures of friends and family at a wedding.\n",
    "- [ ] Populating your company's e-commerce site with the latest products in the catalog.\n",
    "\n",
    "### 4.Question 4\n",
    "What are some characteristics of the Python programming language? Check all that apply.\n",
    "\n",
    "1 / 1 point\n",
    "\n",
    "- [ ] Python programs are easy to write and understand.\n",
    "The Python interpreter reads our code and transforms it into computer instructions.\n",
    "- [ ] It's an outdated language that's barely in use anymore.\n",
    "- [ ] We can practice Python using web interpreters or codepads as well as executing it locally.\n",
    "\n",
    "### 5.Question 5\n",
    "How does Python compare to other programming languages?\n",
    "\n",
    "- [ ] Python is the only programming language that is worth learning.\n",
    "- [ ] Each programming language has its advantages and disadvantages.\n",
    "- [ ] It's always better to use an OS specific language like Bash or Powershell than using a generic language like Python.\n",
    "- [ ] Programming languages are so different that learning a second one is harder than learning the first one."
   ]
  },
  {
   "cell_type": "markdown",
   "metadata": {},
   "source": [
    "### 6.Question 6\n",
    "Write a Python script that outputs \"Automating with Python is fun!\" to the screen.\n",
    "\n",
    "1 / 1 point"
   ]
  },
  {
   "cell_type": "code",
   "execution_count": null,
   "metadata": {},
   "outputs": [],
   "source": [
    "# write your code here\n"
   ]
  },
  {
   "cell_type": "markdown",
   "metadata": {},
   "source": [
    "### 7.Question 7\n",
    "Fill in the blanks so that the code prints \"Yellow is the color of sunshine\".\n",
    "\n",
    "1 / 1 point"
   ]
  },
  {
   "cell_type": "code",
   "execution_count": null,
   "metadata": {},
   "outputs": [],
   "source": [
    "color = ___\n",
    "thing = ___\n",
    "print(color + \" is the color of \" + thing)"
   ]
  },
  {
   "cell_type": "markdown",
   "metadata": {},
   "source": [
    "### 8.Question 8\n",
    "Keeping in mind there are 86400 seconds per day, write a program that calculates how many seconds there are in a week, if a week is 7 days. Print the result on the screen.\n",
    "\n",
    "Note: Your result should be in the format of just a number, not a sentence."
   ]
  },
  {
   "cell_type": "code",
   "execution_count": null,
   "metadata": {},
   "outputs": [],
   "source": [
    "# write your code here\n"
   ]
  },
  {
   "cell_type": "markdown",
   "metadata": {},
   "source": [
    "### 9.Question 9\n",
    "Use Python to calculate how many different passwords can be formed with 6 lower case English letters. For a 1 letter password, there would be 26 possibilities. For a 2 letter password, each letter is independent of the other, so there would be 26 times 26 possibilities. Using this information, print the amount of possible passwords that can be formed with 6 letters.\n",
    "\n",
    "1 / 1 point"
   ]
  },
  {
   "cell_type": "code",
   "execution_count": null,
   "metadata": {},
   "outputs": [],
   "source": [
    "# write your code here\n"
   ]
  },
  {
   "cell_type": "markdown",
   "metadata": {},
   "source": [
    "### 10.Question 10\n",
    "Most hard drives are divided into sectors of 512 bytes each. Our disk has a size of 16 GB. Fill in the blank to calculate how many sectors the disk has.\n",
    "\n",
    "Note: Your result should be in the format of just a number, not a sentence.\n",
    "\n",
    "1 / 1 point"
   ]
  },
  {
   "cell_type": "code",
   "execution_count": null,
   "metadata": {},
   "outputs": [],
   "source": [
    "disk_size = ___\n",
    "sector_size = ___\n",
    "sector_amount = ___\n",
    "\n",
    "print(sector_amount)"
   ]
  }
 ],
 "metadata": {
  "kernelspec": {
   "display_name": "Python 3",
   "language": "python",
   "name": "python3"
  },
  "language_info": {
   "codemirror_mode": {
    "name": "ipython",
    "version": 3
   },
   "file_extension": ".py",
   "mimetype": "text/x-python",
   "name": "python",
   "nbconvert_exporter": "python",
   "pygments_lexer": "ipython3",
   "version": "3.7.6"
  }
 },
 "nbformat": 4,
 "nbformat_minor": 4
}
